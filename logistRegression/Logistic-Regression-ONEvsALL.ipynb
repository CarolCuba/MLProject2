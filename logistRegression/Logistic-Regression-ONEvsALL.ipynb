{
 "cells": [
  {
   "cell_type": "code",
   "execution_count": 41,
   "metadata": {},
   "outputs": [],
   "source": [
    "import numpy as np\n",
    "np.set_printoptions(threshold=np.nan)\n",
    "from sklearn.datasets import fetch_mldata\n",
    "from sklearn.metrics import confusion_matrix\n",
    "import matplotlib\n",
    "import matplotlib.pyplot as plt"
   ]
  },
  {
   "cell_type": "code",
   "execution_count": 2,
   "metadata": {},
   "outputs": [],
   "source": [
    "# changing labels to make one vs all\n",
    "\n",
    "def change_label(which_class,y_train,y_test):\n",
    "\n",
    "    samples_train = y_train.shape[1]\n",
    "    samples_test = y_test.shape[1]\n",
    "    \n",
    "    new_labels_train = np.zeros((1,samples_train ))\n",
    "    new_labels_test = np.zeros((1,samples_test))\n",
    "\n",
    "    ind_row_tr, ind_col_tr = np.where(y_train == which_class)\n",
    "    ind_row_tst, ind_col_tst = np.where(y_test== which_class)\n",
    "    \n",
    "    new_labels_train[ind_row_tr,ind_col_tr] = 1\n",
    "    new_labels_test[ind_row_tst,ind_col_tst] = 1\n",
    "    \n",
    "    return new_labels_train, new_labels_test\n",
    "    \n",
    "    "
   ]
  },
  {
   "cell_type": "code",
   "execution_count": 3,
   "metadata": {
    "code_folding": []
   },
   "outputs": [],
   "source": [
    "#Data preparation\n",
    "\n",
    "def data_preparation(X,Y):\n",
    "    \n",
    "    X_binary = X[np.any([y == 1,y == 2, y==3], axis = 0)]\n",
    "    y_binary = y[np.any([y == 1,y == 2, y==3], axis = 0)]\n",
    "    shuffle_index = np.random.permutation(X_binary.shape[0])\n",
    "    X_binary_shuffled, y_binary_shuffled = X_binary[shuffle_index], y_binary[shuffle_index]\n",
    "    \n",
    "    train_proportion = 0.8\n",
    "    train_test_cut = int(len(X_binary)*train_proportion)\n",
    "    \n",
    "    #sufle create new data set\n",
    "    X_train, X_test, y_train, y_test = \\\n",
    "    X_binary_shuffled[:train_test_cut], \\\n",
    "    X_binary_shuffled[train_test_cut:], \\\n",
    "    y_binary_shuffled[:train_test_cut], \\\n",
    "    y_binary_shuffled[train_test_cut:]\n",
    "    \n",
    "    #normalize\n",
    "    X_train_normalised= X_train/255.0\n",
    "    X_test_normalised = X_test/255.0\n",
    "    \n",
    "    #reshape -> feature in rows and label in collumn\n",
    "    X_train_tr = X_train_normalised.transpose()\n",
    "    y_train_tr = y_train.reshape(1,y_train.shape[0])\n",
    "    X_test_tr = X_test_normalised.transpose()\n",
    "    y_test_tr = y_test.reshape(1,y_test.shape[0])\n",
    "    \n",
    "    #change labels from 1-2 to 0-1\n",
    "#     y_train_shifted = y_train_tr - 1\n",
    "#     print(y_binary.shape)\n",
    "#     y_test_shifted = y_test_tr - 1\n",
    "#     print(\"Shape of X_train is\", X_train.shape)\n",
    "#     print(\"Shape of X_test is\", X_test.shape)\n",
    "#     print(\"Shape of y_train is\", y_train.shape)\n",
    "#     print(\"Shape of y_test is\", y_test.shape)\n",
    "    \n",
    "#     print(X_train_tr.shape)\n",
    "#     print(y_train_tr.shape)\n",
    "#     print(X_test_tr.shape)\n",
    "#     print(y_test_tr.shape)\n",
    "\n",
    "    \n",
    "    return (X_train_tr,X_test_tr,y_train_tr,y_test_tr)\n",
    "    #for i in range(10):\n",
    "        #print (\"digit\", i, \"appear\", np.count_nonzero(y == i), \"times\")\n",
    "       \n"
   ]
  },
  {
   "cell_type": "code",
   "execution_count": 4,
   "metadata": {
    "code_folding": [
     0
    ]
   },
   "outputs": [],
   "source": [
    "# plot image \n",
    "def plot_image(this_digit):\n",
    "    some_digit_image = this_digit.reshape(28,28)\n",
    "    plt.imshow(some_digit_image, cmap = matplotlib.cm.binary, interpolation = \"nearest\")\n",
    "    plt.axis(\"off\")\n",
    "    plt.show()"
   ]
  },
  {
   "cell_type": "code",
   "execution_count": 5,
   "metadata": {
    "code_folding": [
     0
    ]
   },
   "outputs": [],
   "source": [
    "#create sigmoid function\n",
    "\n",
    "def sigmoid(z):\n",
    "    s = 1.0 / (1.0 + np.exp(-z))\n",
    "    return s"
   ]
  },
  {
   "cell_type": "code",
   "execution_count": 6,
   "metadata": {
    "code_folding": [
     0
    ]
   },
   "outputs": [],
   "source": [
    "#initialize values of thetas and bias\n",
    "\n",
    "def initialize_parameters(dim):\n",
    "    w = np.zeros((dim,1))\n",
    "    b = 0\n",
    "    return w,b"
   ]
  },
  {
   "cell_type": "code",
   "execution_count": 7,
   "metadata": {
    "code_folding": []
   },
   "outputs": [],
   "source": [
    "#implement cost function and its gradient propagation\n",
    "def cost_function(w, b, X, Y):\n",
    "\n",
    "    m = X.shape[1] #quantity of samples\n",
    "    \n",
    "    z = np.dot(w.T,X)+b #hipotese without sigmoid\n",
    "    A = sigmoid(z) # applying hipotese on sigmoid, A is the result of sigmoid for each sample\n",
    "    cost = -1.0/m*np.sum(Y*np.log(A)+(1.0-Y)*np.log(1.0-A)) #find cost values for all samples\n",
    "    dw = 1.0/m*np.dot(X, (A-Y).T) #find residual of weights\n",
    "    db = 1.0/m*np.sum(A-Y) # find residual of bias\n",
    "    cost = np.squeeze(cost)\n",
    "    \n",
    "    return dw,db, cost"
   ]
  },
  {
   "cell_type": "code",
   "execution_count": 8,
   "metadata": {
    "code_folding": []
   },
   "outputs": [],
   "source": [
    "#apply gradient descent\n",
    "\n",
    "def gradient_descent(w,b,X,Y,num_iterations,alpha, print_cost):\n",
    "    cost_array = []\n",
    "    for i in range(num_iterations):\n",
    "        #call cost function\n",
    "        dw,db,cost = cost_function(w,b,X,Y)\n",
    "        # update weights and bias\n",
    "        w = w - alpha*dw\n",
    "        b = b - alpha*db\n",
    "        \n",
    "        #save cost\n",
    "        cost_array.append(cost)\n",
    "        \n",
    "        if print_cost == True:\n",
    "            print(\"Cost from iteration \",i,\"= \",cost,\"\\n\")\n",
    "            \n",
    "    return w,b,cost_array\n",
    "        "
   ]
  },
  {
   "cell_type": "code",
   "execution_count": 9,
   "metadata": {
    "code_folding": []
   },
   "outputs": [],
   "source": [
    "#prediction\n",
    "\n",
    "def prediction (w,b,X,threshold):\n",
    "    samples = X.shape[1]\n",
    "    Y_prediction = np.zeros((1,samples))\n",
    "    w = w.reshape(X.shape[0],1)\n",
    "    A = sigmoid (np.dot(w.T, X)+b)\n",
    "#     for i in range(A.shape[1]):\n",
    "#         if (A[:,i] > threshold): \n",
    "#             Y_prediction[:, i] = 1\n",
    "#         elif (A[:,i] <= threshold):\n",
    "#             Y_prediction[:, i] = 0\n",
    "    return A"
   ]
  },
  {
   "cell_type": "code",
   "execution_count": 10,
   "metadata": {},
   "outputs": [],
   "source": [
    "# one vs all prediction\n",
    "\n",
    "def one_vs_all(w,X):\n",
    "    samples = X.shape[1]\n",
    "    weighs_qut = w.shape[0]\n",
    "    bias = w[-1]\n",
    "    weights = w[:(len(w))-1]\n",
    "    A = sigmoid (np.dot(weights.T, X)+bias)\n",
    "    \n",
    "    return A;\n",
    "   \n",
    "    \n",
    "    \n"
   ]
  },
  {
   "cell_type": "code",
   "execution_count": 78,
   "metadata": {},
   "outputs": [
    {
     "name": "stdout",
     "output_type": "stream",
     "text": [
      "(4402, 1)\n",
      "(4402, 1)\n",
      "95.27487505679237\n"
     ]
    },
    {
     "data": {
      "text/plain": [
       "<matplotlib.colorbar.Colorbar at 0x7f78e0acca20>"
      ]
     },
     "execution_count": 78,
     "metadata": {},
     "output_type": "execute_result"
    },
    {
     "data": {
      "image/png": "[encoded data removed]",
      "text/plain": [
       "<Figure size 432x288 with 2 Axes>"
      ]
     },
     "metadata": {},
     "output_type": "display_data"
    }
   ],
   "source": [
    "mnist  =  fetch_mldata('MNIST original')\n",
    "X,y = mnist[\"data\"], mnist[\"target\"]\n",
    "threshold = 0.5\n",
    "num_classes = 3\n",
    "num_iterations = 100000\n",
    "alpha = 0.0005\n",
    "X_train,X_test,y_train,y_test = data_preparation(X,y)\n",
    "\n",
    "i = 1;\n",
    "j = 1;\n",
    "dim_train = X_train.shape[0]\n",
    "dim_test = X_test.shape[1]\n",
    "\n",
    "# weights = [None]*num_classes\n",
    "# biases = [None]*num_classes\n",
    "\n",
    "classifiers = {} #dicionarios de classificadores treinados\n",
    "#probabilities = np.zeros((num_classes,dim_test))\n",
    "probabilities = []\n",
    "while i <=3:\n",
    "    new_label_train, new_label_test = change_label(i,y_train,y_test)\n",
    "    ws, bs = initialize_parameters(dim_train)\n",
    "    \n",
    "    w,b,costs = gradient_descent(ws,bs,X_train,new_label_train,num_iterations,alpha,False) # pesos e bias treinados\n",
    "    treined_parameters = (np.append(w,b)).reshape(dim_train+1,1)  # concatenate weights\n",
    "    classifiers.update({i:treined_parameters})\n",
    "    i = i+1\n",
    "\n",
    "    \n",
    "#compute probabilities for each class\n",
    "while j <=3:\n",
    "    \n",
    "    prob = one_vs_all(classifiers.get(j),X_test)\n",
    "    #probabilities[:][:j] = prob\n",
    "    probabilities.append(prob)\n",
    "    j = j+1\n",
    "\n",
    "#max_value = np.max(probabilities,axis=1)\n",
    "# print(max_value)\n",
    "k = 0\n",
    "aux_array = np.zeros(num_classes)\n",
    "prediction_array = []\n",
    "y = np.ndarray.tolist(y_test)\n",
    "while k <= dim_test-1:\n",
    "    aux_array[0] = probabilities[0][0][k]\n",
    "    aux_array[1] = probabilities[1][0][k]\n",
    "    aux_array[2] = probabilities[2][0][k]\n",
    "    k = k+1\n",
    "    max_value = np.max(aux_array)\n",
    "    indx = np.asscalar((np.where(aux_array == max_value))[0])\n",
    "    prediction_array.append(indx+1)\n",
    "    \n",
    "    \n",
    "#final = accuracy_score(y_test, prediction_array,normalize = True)\n",
    "\n",
    "final = (np.asarray(prediction_array)).reshape((dim_test,1))\n",
    "y_test = y_test.T\n",
    "print(y_test.shape)\n",
    "print(final.shape)\n",
    "\n",
    "#computer test prediction\n",
    "\n",
    "    #print(w)\n",
    "    #print(b)\n",
    "    \n",
    "#     weights[i-1] = w\n",
    "#     biases[i-1] = b\n",
    "    \n",
    "   # Y_prediction_test = predict (w, b, X_test)\n",
    "#     prob = np.ndarray.tolist(prediction (w, b, X_train,threshold))\n",
    "#     probabilities.append(prob)\n",
    "    \n",
    "    #train_accuracy = 100.0 - np.mean(np.abs(Y_prediction_train-new_label_train)*100.0)\n",
    "test_accuracy = 100.0 - np.mean(np.abs(final-y_test)*100.0)\n",
    "print(test_accuracy)\n",
    "    #print(\"vector class: \", i, \" \",new_label_train)\n",
    "    \n",
    "classes_names = ['1','2','3']\n",
    "cnf_matrix = confusion_matrix(y_test,final)\n",
    "plt.imshow(cnf_matrix)\n",
    "plt.title(\"Confusion Matrix\")\n",
    "plt.colorbar()\n",
    "\n",
    "\n",
    "   \n",
    "\n",
    "\n",
    "#print (\"Accuracy Train: \", train_accuracy)    \n",
    "\n",
    "#print (\"Info Gerais: \", d)\n",
    "#print (\"Accuarcy Test: \",  test_accuracy)\n"
   ]
  },
  {
   "cell_type": "code",
   "execution_count": null,
   "metadata": {},
   "outputs": [],
   "source": []
  },
  {
   "cell_type": "code",
   "execution_count": null,
   "metadata": {},
   "outputs": [],
   "source": []
  }
 ],
 "metadata": {
  "kernelspec": {
   "display_name": "Python 3",
   "language": "python",
   "name": "python3"
  },
  "language_info": {
   "codemirror_mode": {
    "name": "ipython",
    "version": 3
   },
   "file_extension": ".py",
   "mimetype": "text/x-python",
   "name": "python",
   "nbconvert_exporter": "python",
   "pygments_lexer": "ipython3",
   "version": "3.7.0"
  }
 },
 "nbformat": 4,
 "nbformat_minor": 2
}
